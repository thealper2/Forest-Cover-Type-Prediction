{
 "cells": [
  {
   "cell_type": "markdown",
   "id": "fb84e91b-d634-4587-a7a8-e6075c45ecae",
   "metadata": {},
   "source": [
    "# Import Modules"
   ]
  },
  {
   "cell_type": "code",
   "execution_count": null,
   "id": "796d2d3e-ff66-4e4c-8f12-8f355cd68aed",
   "metadata": {},
   "outputs": [],
   "source": [
    "import numpy as np\n",
    "import pandas as pd\n",
    "import matplotlib.pyplot as plt\n",
    "import seaborn as sns\n",
    "from sklearn.model_selection import train_test_split, KFold, GridSearchCV\n",
    "from sklearn.ensemble import RandomForestClassifier, AdaBoostClassifier, BaggingClassifier\n",
    "from sklearn.svm import SVC, LinearSVC\n",
    "from sklearn.tree import DecisionTreeClassifier\n",
    "from sklearn.linear_model import LogisticRegression, SGDClassifier\n",
    "from xgboost import XGBClassifier\n",
    "from lightgbm import LGBMClassifier\n",
    "from catboost import CatBoostClassifier\n",
    "from sklearn.preprocessing import MinMaxScaler\n",
    "from sklearn.metrics import accuracy_score, f1_score, precision_score, recall_score, confusion_matrix\n",
    "from mlxtend.plotting import plot_confusion_matrix\n",
    "from collections import Counter\n",
    "from imblearn.over_sampling import SMOTE\n",
    "\n",
    "import warnings\n",
    "from sklearn.exceptions import ConvergenceWarning\n",
    "warnings.filterwarnings(\"ignore\", category=UserWarning)\n",
    "warnings.filterwarnings(\"ignore\", category=FutureWarning)\n",
    "warnings.filterwarnings(\"ignore\", category=ConvergenceWarning)"
   ]
  },
  {
   "cell_type": "markdown",
   "id": "0a7ffa43-c2d9-48a3-acc0-eda3b4db27b8",
   "metadata": {},
   "source": [
    "# Load Data"
   ]
  },
  {
   "cell_type": "code",
   "execution_count": null,
   "id": "138bad94-8232-49f3-b7d9-7d034d9bca2a",
   "metadata": {},
   "outputs": [],
   "source": [
    "df = pd.read_csv(\"/mnt/hdd/Datasets/covtype.csv\")\n",
    "df.head()"
   ]
  },
  {
   "cell_type": "code",
   "execution_count": null,
   "id": "81e628c1-be85-4fab-be79-18c99c11fe92",
   "metadata": {},
   "outputs": [],
   "source": [
    "df.shape"
   ]
  },
  {
   "cell_type": "code",
   "execution_count": null,
   "id": "08394991-4e01-4d35-9218-91e9c1227467",
   "metadata": {},
   "outputs": [],
   "source": [
    "total_null = df.isnull().sum().sum()\n",
    "total_duplicated = df.duplicated().sum()\n",
    "\n",
    "print(\"Number of null values:\", total_null)\n",
    "print(\"Number of duplicated values:\", total_duplicated)"
   ]
  },
  {
   "cell_type": "markdown",
   "id": "6af55bfd-8bd2-4fa6-9748-21248dd98b1e",
   "metadata": {},
   "source": [
    "# EDA"
   ]
  },
  {
   "cell_type": "code",
   "execution_count": null,
   "id": "dacdc45f-3438-48d3-ab6d-cb11436c1349",
   "metadata": {},
   "outputs": [],
   "source": [
    "target = \"Cover_Type\"\n",
    "numerical_columns = [col for col in df.columns if pd.api.types.is_numeric_dtype(df[col]) and col != target]\n",
    "categorical_columns = [col for col in df.columns if pd.api.types.is_categorical_dtype(df[col]) and col != target]\n",
    "\n",
    "print(\"Total Numerical Columns:\", len(numerical_columns))\n",
    "print(\"Total Categorical Columns:\", len(categorical_columns))"
   ]
  },
  {
   "cell_type": "markdown",
   "id": "d5ac9b04-6405-4085-89f6-ea11ab399050",
   "metadata": {},
   "source": [
    "# Target Value Distribution"
   ]
  },
  {
   "cell_type": "code",
   "execution_count": null,
   "id": "f5b767d1-de76-41f9-a10f-bcb744af80ee",
   "metadata": {},
   "outputs": [],
   "source": [
    "def plot_count(df, col, title):\n",
    "    fig, ax = plt.subplots(1 ,2, figsize=(18, 6))\n",
    "    plt.subplots_adjust(wspace=0.2)\n",
    "\n",
    "    values = df[col].value_counts()\n",
    "    N = len(values)\n",
    "\n",
    "    outer_pie = values\n",
    "    inner_pie = values / N\n",
    "\n",
    "    ax[0].pie(\n",
    "        outer_pie,\n",
    "        labels=values.index.tolist(),\n",
    "        startangle=90,\n",
    "        frame=False,\n",
    "        radius=1.3,\n",
    "        explode=([0.05] * (N-1) + [0.3]),\n",
    "        wedgeprops={\"linewidth\": 1, \"edgecolor\": \"white\"},\n",
    "        textprops={\"fontsize\": 12, \"weight\": \"bold\"}\n",
    "    )\n",
    "\n",
    "    ax[0].pie(\n",
    "        inner_pie,\n",
    "        radius=1,\n",
    "        startangle=90,\n",
    "        autopct=\"%1.f%%\",\n",
    "        explode=([0.1] * (N-1) + [0.3]),\n",
    "        pctdistance=0.8,\n",
    "        textprops={\"size\": 13, \"weight\": \"bold\", \"color\": \"white\"}\n",
    "    )\n",
    "\n",
    "    center_circle = plt.Circle((0, 0), 0.7, color=\"black\", fc=\"white\", linewidth=0)\n",
    "    ax[0].add_artist(center_circle)\n",
    "\n",
    "    sns.barplot(x=values, y=values.index.tolist(), orient=\"horizontal\")\n",
    "\n",
    "    for i, v in enumerate(values):\n",
    "        ax[1].text(v, i+0.1, str(v), color=\"black\", fontweight=\"bold\", fontsize=13)\n",
    "\n",
    "    plt.setp(ax[1].get_yticklabels(), fontweight=\"bold\")\n",
    "    plt.setp(ax[1].get_xticklabels(), fontweight=\"bold\")\n",
    "    ax[1].set_xlabel(col, fontweight=\"bold\", color=\"black\")\n",
    "    ax[1].set_ylabel(\"count\", fontweight=\"bold\", color=\"black\")\n",
    "\n",
    "    fig.suptitle(f\"{title}\", fontsize=18, fontweight=\"bold\")\n",
    "    plt.tight_layout()\n",
    "    plt.show()"
   ]
  },
  {
   "cell_type": "code",
   "execution_count": null,
   "id": "3cb61166-67d2-4a7c-bf0f-1f19d6c7ec48",
   "metadata": {},
   "outputs": [],
   "source": [
    "plot_count(df, \"Cover_Type\", \"Target Value Distribution\")"
   ]
  },
  {
   "cell_type": "markdown",
   "id": "013fd2fc-1a3e-43cf-a898-20fdd6a50fb6",
   "metadata": {},
   "source": [
    "# Numerical Columns"
   ]
  },
  {
   "cell_type": "code",
   "execution_count": null,
   "id": "a278225a-8990-4d3c-a59d-1eae2c65806b",
   "metadata": {},
   "outputs": [],
   "source": [
    "def plot_num(df, columns, label):\n",
    "    for i, column in enumerate(columns):\n",
    "        plt.subplot(int(len(columns) / 2)+1, 2, i+1)\n",
    "        sns.histplot(x=column, hue=label, data=df, bins=30, kde=True)\n",
    "        plt.axvline(df[column].mean(), color=\"r\", linestyle=\"--\", label=\"Mean\")\n",
    "        plt.axvline(df[column].median(), color=\"g\", linestyle=\"-\", label=\"Median\")\n",
    "        plt.grid()\n",
    "        plt.title(f\"{column} Distribution\")\n",
    "        plt.tight_layout()\n",
    "\n",
    "    plt.show()"
   ]
  },
  {
   "cell_type": "code",
   "execution_count": null,
   "id": "f5c40ecd-8c4d-463f-a746-15b2d3d984d2",
   "metadata": {},
   "outputs": [],
   "source": [
    "plt.figure(figsize=(30, len(numerical_columns) * 2.5))\n",
    "plot_num(df, numerical_columns, \"Cover_Type\")"
   ]
  },
  {
   "cell_type": "markdown",
   "id": "094437ab-c86a-422c-a7f0-d4fe49b3750e",
   "metadata": {},
   "source": [
    "# Outlier Detection using Tukey's IQR"
   ]
  },
  {
   "cell_type": "code",
   "execution_count": null,
   "id": "061a3556-eb42-4a0c-ac28-a838ce63f2af",
   "metadata": {},
   "outputs": [],
   "source": [
    "def custom_boxplots(df, columns, rows, cols, title):\n",
    "    fig, ax = plt.subplots(rows, cols, sharey=True, figsize=(30, len(columns) * 2.5))\n",
    "    fig.suptitle(title, y=1, size=25)\n",
    "    ax = ax.flatten()\n",
    "    for i, column in enumerate(columns):\n",
    "        sns.boxplot(data=df[column], orient=\"h\", ax=ax[i])\n",
    "        ax[i].set_title(column + \", skewness is: \" + str(round(df[column].skew(axis=0, skipna=True), 2))) \n",
    "\n",
    "    plt.tight_layout()\n",
    "    plt.show()"
   ]
  },
  {
   "cell_type": "code",
   "execution_count": null,
   "id": "26fcdbd9-c40e-4523-8fd0-00a462700914",
   "metadata": {},
   "outputs": [],
   "source": [
    "custom_boxplots(df=df, columns=numerical_columns, rows=1+ int(len(numerical_columns)/4), cols=4, title=\"Boxplots for each variable\")"
   ]
  },
  {
   "cell_type": "code",
   "execution_count": null,
   "id": "3c11c22f-09c5-4ace-b46b-7663f20bc8a2",
   "metadata": {},
   "outputs": [],
   "source": [
    "def IQR(df, n, columns):\n",
    "    outlier_list = []\n",
    "\n",
    "    for column in columns:\n",
    "        Q1 = np.percentile(df[column], 25)\n",
    "        Q3 = np.percentile(df[column], 75)\n",
    "        IQR = Q3 - Q1\n",
    "        outlier_step = 1.5 * IQR\n",
    "        outlier_list_column = df[(df[column] < Q1 - outlier_step) | (df[column] > Q3 + outlier_step)].index\n",
    "        outlier_list.extend(outlier_list_column)\n",
    "\n",
    "    outlier_list = Counter(outlier_list)\n",
    "    multiple_outliers = list(k for k, v in outlier_list.items() if v > n)\n",
    "\n",
    "    df1 = df[df[column] < Q1 - outlier_step]\n",
    "    df2 = df[df[column] > Q3 + outlier_step]\n",
    "    print(\"Total number of outliers is\", df1.shape[0] + df2.shape[0])\n",
    "    return multiple_outliers"
   ]
  },
  {
   "cell_type": "code",
   "execution_count": null,
   "id": "550db380-9fe8-48fc-bc11-9213f20cd0ae",
   "metadata": {},
   "outputs": [],
   "source": [
    "iqr_outliers = IQR(df, 1, numerical_columns)"
   ]
  },
  {
   "cell_type": "code",
   "execution_count": null,
   "id": "b70a8bf2-2264-46b0-8151-f889eb49ec83",
   "metadata": {},
   "outputs": [],
   "source": [
    "df = df.drop(iqr_outliers, axis=0).reset_index(drop=True)"
   ]
  },
  {
   "cell_type": "code",
   "execution_count": null,
   "id": "23ba6a89-916b-4137-9fba-c349a61259f0",
   "metadata": {},
   "outputs": [],
   "source": [
    "print(\"Shape:\", df.shape)"
   ]
  },
  {
   "cell_type": "markdown",
   "id": "3bb0c56a-818f-4ef8-82bf-f911ca0973f3",
   "metadata": {},
   "source": [
    "# Multicollinearity"
   ]
  },
  {
   "cell_type": "code",
   "execution_count": null,
   "id": "8d834b93-9328-4410-9ca9-6ed28503364f",
   "metadata": {},
   "outputs": [],
   "source": [
    "df_corr = df.copy()"
   ]
  },
  {
   "cell_type": "code",
   "execution_count": null,
   "id": "0167fc34-f61c-48ec-9b55-659d4c74a3c5",
   "metadata": {},
   "outputs": [],
   "source": [
    "def plot_correlation_table(df):\n",
    "    corr = df.corr()\n",
    "    fig, axes = plt.subplots(figsize=(20, 20))\n",
    "    mask = np.triu(np.ones_like(corr))\n",
    "    sns.heatmap(corr, mask=mask, linewidth=0.6, annot=True, robust=True, center=0, square=True)\n",
    "    plt.title(\"Correlation Table\")\n",
    "    plt.show()"
   ]
  },
  {
   "cell_type": "code",
   "execution_count": null,
   "id": "0931a026-f91e-4996-b5f7-de1cb29cf584",
   "metadata": {},
   "outputs": [],
   "source": [
    "plot_correlation_table(df_corr)"
   ]
  },
  {
   "cell_type": "markdown",
   "id": "533f6f33-2ac5-47db-b8a6-67162c805964",
   "metadata": {},
   "source": [
    "# Imbalance Check"
   ]
  },
  {
   "cell_type": "code",
   "execution_count": null,
   "id": "9d2ef65b-c112-4385-9c8b-6554fd88089f",
   "metadata": {},
   "outputs": [],
   "source": [
    "plt.figure(figsize=(12, 5))\n",
    "ax = sns.countplot(data=df, x=\"Cover_Type\")\n",
    "for container in ax.containers:\n",
    "    ax.bar_label(container)\n",
    "\n",
    "plt.show()"
   ]
  },
  {
   "cell_type": "markdown",
   "id": "3029117b-c041-48e0-9689-f63e1065f2f1",
   "metadata": {},
   "source": [
    "# Feature Scaling"
   ]
  },
  {
   "cell_type": "code",
   "execution_count": null,
   "id": "babf3cae-cf47-4e01-a60a-1cb12fecde8e",
   "metadata": {},
   "outputs": [],
   "source": [
    "df = df.sample(frac=1).reset_index(drop=True)"
   ]
  },
  {
   "cell_type": "code",
   "execution_count": null,
   "id": "5f81f48e-a9db-42e1-baf2-66d8e88818ca",
   "metadata": {},
   "outputs": [],
   "source": [
    "X = df.drop(\"Cover_Type\", axis=1)\n",
    "y = df[\"Cover_Type\"]"
   ]
  },
  {
   "cell_type": "code",
   "execution_count": null,
   "id": "7955cbe9-abb5-476a-8680-007de78963d5",
   "metadata": {},
   "outputs": [],
   "source": [
    "#_train, X_test, y_train, y_test = train_test_split(X, y, test_size=0.2, random_state=42)"
   ]
  },
  {
   "cell_type": "code",
   "execution_count": null,
   "id": "e06b6a52-1013-47e7-b736-d9acbddb9cb2",
   "metadata": {},
   "outputs": [],
   "source": [
    "print(\"Before SMOTE:\", Counter(y))"
   ]
  },
  {
   "cell_type": "code",
   "execution_count": null,
   "id": "e5fcb642-ec22-4f25-8c6b-d61df475a974",
   "metadata": {},
   "outputs": [],
   "source": [
    "smote = SMOTE(random_state=42)\n",
    "X_resampled, y_resampled = smote.fit_resample(X_train, y_train)"
   ]
  },
  {
   "cell_type": "code",
   "execution_count": null,
   "id": "2ac0a466-deb3-49d2-9592-5f9c3466f688",
   "metadata": {},
   "outputs": [],
   "source": [
    "print(\"After SMOTE:\", Counter(y_train_resampled))"
   ]
  },
  {
   "cell_type": "code",
   "execution_count": null,
   "id": "82b0dceb-ea48-4508-8c60-f3fbe24839e9",
   "metadata": {},
   "outputs": [],
   "source": [
    "mms = MinMaxScaler()\n",
    "X_train_scaled = mms.fit_transform(X_train_resampled)\n",
    "X_test_scaled = mms.transform(X_test)"
   ]
  },
  {
   "cell_type": "markdown",
   "id": "eac242cf-21bc-465f-b032-2a95ca695eba",
   "metadata": {},
   "source": [
    "# Train"
   ]
  },
  {
   "cell_type": "code",
   "execution_count": null,
   "id": "fdbaf073-657c-4a19-9bb8-93b0c665faab",
   "metadata": {},
   "outputs": [],
   "source": [
    "kf = KFold(n_splits=5, shuffle=True)"
   ]
  },
  {
   "cell_type": "code",
   "execution_count": null,
   "id": "4f540d04-3379-489e-860d-877a94d79858",
   "metadata": {},
   "outputs": [],
   "source": [
    "def cross_validation(model, X, y):\n",
    "    model_log = pd.DataFrame(columns=[\"Accuracy\", \"F1\", \"Precision\", \"Recall\"])\n",
    "    for fold, (train_, test_) in enumerate(kf.split(X=X, y=y)):\n",
    "        xtrain = X[train_, :]\n",
    "        xtest = X[test_, :]\n",
    "        ytrain = y[train_]\n",
    "        ytest = y[test_]\n",
    "\n",
    "        model.fit(xtrain, ytrain)\n",
    "\n",
    "        y_pred = model.predict(xtest)\n",
    "        print(f\"The fold is: {fold}\")\n",
    "\n",
    "        cm = confusion_matrix(ytest, y_pred)\n",
    "\n",
    "        model_log.loc[fold, \"Accuracy\"] = accuracy_score(ytest, y_pred)\n",
    "        model_log.loc[fold, \"F1\"] = f1_score(ytest, y_pred, average=\"weighted\")\n",
    "        model_log.loc[fold, \"Precision\"] = precision_score(ytest, y_pred, average=\"weighted\")\n",
    "        model_log.loc[fold, \"Recall\"] = recall_score(ytest, y_pred, average=\"weighted\")\n",
    "\n",
    "    return model_log, cm"
   ]
  },
  {
   "cell_type": "code",
   "execution_count": null,
   "id": "e4850f2c-5ffb-4b3d-bb3b-4e2830c9b215",
   "metadata": {},
   "outputs": [],
   "source": [
    "dt = DecisionTreeClassifier()\n",
    "dt_log, dt_cm = cross_validation(dt, X_train_scaled, y_train_resampled)\n",
    "plot_confusion_matrix(conf_mat=dt_cm, show_absolute=True, show_normed=True, colorbar=True, figsize=(8, 8));"
   ]
  },
  {
   "cell_type": "code",
   "execution_count": null,
   "id": "8a838564-701d-40a1-b575-6299f15a0526",
   "metadata": {},
   "outputs": [],
   "source": [
    "rf = RandomForestClassifier()\n",
    "rf_log, rf_cm = cross_validation(rf, X_train_scaled, y_train_resampled)\n",
    "plot_confusion_matrix(conf_mat=rf_cm, show_absolute=True, show_normed=True, colorbar=True, figsize=(8, 8));"
   ]
  },
  {
   "cell_type": "code",
   "execution_count": null,
   "id": "90d525c4-78b7-4a36-9c67-9668c83839b7",
   "metadata": {},
   "outputs": [],
   "source": [
    "ada = AdaBoostClassifier()\n",
    "ada_log, ada_cm = cross_validation(ada, X_train_scaled, y_train_resampled)\n",
    "plot_confusion_matrix(conf_mat=ada_cm, show_absolute=True, show_normed=True, colorbar=True, figsize=(8, 8));"
   ]
  },
  {
   "cell_type": "code",
   "execution_count": null,
   "id": "52466ea2-f424-4bc7-8a81-802cbce326dd",
   "metadata": {},
   "outputs": [],
   "source": [
    "svc = SVC()\n",
    "svc_log, svc_cm = cross_validation(svc, X_train_scaled, y_train_resampled)\n",
    "plot_confusion_matrix(conf_mat=svc_cm, show_absolute=True, show_normed=True, colorbar=True, figsize=(8, 8));"
   ]
  },
  {
   "cell_type": "code",
   "execution_count": null,
   "id": "f85e2fb3-2662-4898-a68b-038d60cd928d",
   "metadata": {},
   "outputs": [],
   "source": [
    "lsvc = LinearSVC()\n",
    "lsvc_log, lsvc_cm = cross_validation(lsvc, X_train_scaled, y_train_resampled)\n",
    "plot_confusion_matrix(conf_mat=lsvc_cm, show_absolute=True, show_normed=True, colorbar=True, figsize=(8, 8));"
   ]
  },
  {
   "cell_type": "code",
   "execution_count": null,
   "id": "3e8fecae-b91d-446a-af9d-136fdaca6cef",
   "metadata": {},
   "outputs": [],
   "source": [
    "logreg = LogisticRegression()\n",
    "logreg_log, logreg_cm = cross_validation(logreg, X_train_scaled, y_train_resampled)\n",
    "plot_confusion_matrix(conf_mat=logreg_cm, show_absolute=True, show_normed=True, colorbar=True, figsize=(8, 8));"
   ]
  },
  {
   "cell_type": "code",
   "execution_count": null,
   "id": "551135c2-83d7-427f-b1c9-ae823e286ad5",
   "metadata": {},
   "outputs": [],
   "source": [
    "sgdc = SGDClassifier()\n",
    "sgdc_log, sgdc_cm = cross_validation(sgdc, X_train_scaled, y_train_resampled)\n",
    "plot_confusion_matrix(conf_mat=sgdc_cm, show_absolute=True, show_normed=True, colorbar=True, figsize=(8, 8));"
   ]
  },
  {
   "cell_type": "markdown",
   "id": "87e414f8-3cd4-4fc4-9c6a-d98976c65f14",
   "metadata": {},
   "source": [
    "# Results"
   ]
  },
  {
   "cell_type": "code",
   "execution_count": null,
   "id": "7b06dc14-b1ac-4bf0-b712-6587c24806c9",
   "metadata": {},
   "outputs": [],
   "source": [
    "result_df = pd.DataFrame({\n",
    "    \"Model\": [\"DT\", \"XGB\", \"RF\", \"LGBM\", \"DT2\", \"XGB2\", \"RF2\", \"LGBM\"],\n",
    "    \"Accuracy\": [dt_log[\"Accuracy\"].mean(), rf_log[\"Accuracy\"].mean(), ada_log[\"Accuracy\"].mean(), svc_log[\"Accuracy\"].mean(),\n",
    "                 lsvc_log[\"Accuracy\"].mean(), logreg_log[\"Accuracy\"].mean(), sgdc_log[\"Accuracy\"].mean()],\n",
    "    \"F1\": [dt_log[\"F1\"].mean(), rf_log[\"F1\"].mean(), ada_log[\"F1\"].mean(), svc_log[\"F1\"].mean(),\n",
    "                 lsvc_log[\"F1\"].mean(), logreg_log[\"F1\"].mean(), sgdc_log[\"F1\"].mean()],\n",
    "    \"Precision\": [dt_log[\"Precision\"].mean(), rf_log[\"Precision\"].mean(), ada_log[\"Precision\"].mean(), svc_log[\"Precision\"].mean(),\n",
    "                 lsvc_log[\"Precision\"].mean(), logreg_log[\"Precision\"].mean(), sgdc_log[\"Precision\"].mean()],\n",
    "    \"Recall\": [dt_log[\"Recall\"].mean(), rf_log[\"Recall\"].mean(), ada_log[\"Recall\"].mean(), svc_log[\"Recall\"].mean(),\n",
    "                 lsvc_log[\"Recall\"].mean(), logreg_log[\"Recall\"].mean(), sgdc_log[\"Recall\"].mean()]\n",
    "})\n",
    "\n",
    "result_df.head(7)"
   ]
  },
  {
   "cell_type": "code",
   "execution_count": null,
   "id": "f638e758-6777-4223-bd40-6daddb2c6944",
   "metadata": {},
   "outputs": [],
   "source": [
    "result_df.sort_values(by=\"Accuracy\", ascending=False)[[\"Model\", \"Accuracy\"]]"
   ]
  },
  {
   "cell_type": "code",
   "execution_count": null,
   "id": "f23fcbc1-1128-4282-913d-24f7207d6da8",
   "metadata": {},
   "outputs": [],
   "source": [
    "result_df.sort_values(by=\"F1\", ascending=False)[[\"Model\", \"F1\"]]"
   ]
  },
  {
   "cell_type": "code",
   "execution_count": null,
   "id": "8ff675a7-41a2-4242-a3d4-c1a014df4afc",
   "metadata": {},
   "outputs": [],
   "source": [
    "result_df.sort_values(by=\"Precision\", ascending=False)[[\"Model\", \"Precision\"]]"
   ]
  },
  {
   "cell_type": "code",
   "execution_count": null,
   "id": "cdf15403-e8b7-4223-9ec5-2f487a771a86",
   "metadata": {},
   "outputs": [],
   "source": [
    "result_df.sort_values(by=\"Recall\", ascending=False)[[\"Model\", \"Recall\"]]"
   ]
  },
  {
   "cell_type": "code",
   "execution_count": null,
   "id": "fba09634-a9c9-4bc8-8d84-033371f71dbe",
   "metadata": {},
   "outputs": [],
   "source": [
    "plt.figure(figsize=(15, 15))\n",
    "\n",
    "plt.subplot(221)\n",
    "ax = sns.barplot(data=result_df, x=\"Model\", y=\"Accuracy\")\n",
    "for container in ax.containers:\n",
    "    ax.bar_label(container)\n",
    "plt.title(\"Model / Accuracy Score\")\n",
    "\n",
    "plt.subplot(222)\n",
    "ax = sns.barplot(data=result_df, x=\"Model\", y=\"F1\")\n",
    "for container in ax.containers:\n",
    "    ax.bar_label(container)\n",
    "plt.title(\"Model / F1 Score\")\n",
    "\n",
    "plt.subplot(223)\n",
    "ax = sns.barplot(data=result_df, x=\"Model\", y=\"Precision\")\n",
    "for container in ax.containers:\n",
    "    ax.bar_label(container)\n",
    "plt.title(\"Model / Precision Score\")\n",
    "\n",
    "plt.subplot(224)\n",
    "ax = sns.barplot(data=result_df, x=\"Model\", y=\"Recall\")\n",
    "for container in ax.containers:\n",
    "    ax.bar_label(container)\n",
    "plt.title(\"Model / Recall Score\")\n",
    "\n",
    "plt.show()"
   ]
  }
 ],
 "metadata": {
  "kernelspec": {
   "display_name": "Python 3 (ipykernel)",
   "language": "python",
   "name": "python3"
  },
  "language_info": {
   "codemirror_mode": {
    "name": "ipython",
    "version": 3
   },
   "file_extension": ".py",
   "mimetype": "text/x-python",
   "name": "python",
   "nbconvert_exporter": "python",
   "pygments_lexer": "ipython3",
   "version": "3.10.12"
  }
 },
 "nbformat": 4,
 "nbformat_minor": 5
}
